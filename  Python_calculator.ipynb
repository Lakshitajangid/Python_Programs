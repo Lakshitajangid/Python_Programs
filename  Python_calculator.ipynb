{
 "cells": [
  {
   "cell_type": "markdown",
   "id": "feffb84d",
   "metadata": {},
   "source": [
    "# simple calculator which can perform simple arithmetic operations "
   ]
  },
  {
   "cell_type": "code",
   "execution_count": null,
   "id": "e3cafe77",
   "metadata": {},
   "outputs": [
    {
     "name": "stdout",
     "output_type": "stream",
     "text": [
      "Simple Calculator\n",
      "Select operation:\n",
      "1. Add\n",
      "2. Subtract\n",
      "3. Multiply\n",
      "4. Divide\n",
      "Enter choice (1/2/3/4): 1\n",
      "Enter first number: 8\n",
      "Enter second number: 9\n",
      "8.0 + 9.0 = 17.0\n",
      "Do you want to perform another calculation? (yes/no): yes\n",
      "Enter choice (1/2/3/4): 2\n",
      "Enter first number: 9\n",
      "Enter second number: 5\n",
      "9.0 - 5.0 = 4.0\n",
      "Do you want to perform another calculation? (yes/no): yes\n",
      "Enter choice (1/2/3/4): 3\n",
      "Enter first number: 5\n",
      "Enter second number: 2\n",
      "5.0 * 2.0 = 10.0\n",
      "Do you want to perform another calculation? (yes/no): yes\n",
      "Enter choice (1/2/3/4): 4\n",
      "Enter first number: 5\n",
      "Enter second number: 2\n",
      "5.0 / 2.0 = 2.5\n"
     ]
    }
   ],
   "source": [
    "# Define functions for basic arithmetic operations\n",
    "def add(x, y):\n",
    "    return x + y\n",
    "\n",
    "def subtract(x, y):\n",
    "    return x - y\n",
    "\n",
    "def multiply(x, y):\n",
    "    return x * y\n",
    "\n",
    "def divide(x, y):\n",
    "    if y == 0:\n",
    "        return \"Error! Division by zero.\"\n",
    "    else:\n",
    "        return x / y\n",
    "\n",
    "# Main function to run the calculator\n",
    "def calculator():\n",
    "    print(\"Simple Calculator\")\n",
    "    print(\"Select operation:\")\n",
    "    print(\"1. Add\")\n",
    "    print(\"2. Subtract\")\n",
    "    print(\"3. Multiply\")\n",
    "    print(\"4. Divide\")\n",
    "\n",
    "    while True:\n",
    "        choice = input(\"Enter choice (1/2/3/4): \")\n",
    "\n",
    "        if choice in ['1', '2', '3', '4']:\n",
    "            try:\n",
    "                num1 = float(input(\"Enter first number: \"))\n",
    "                num2 = float(input(\"Enter second number: \"))\n",
    "            except ValueError:\n",
    "                print(\"Invalid input. Please enter a number.\")\n",
    "                continue\n",
    "\n",
    "            if choice == '1':\n",
    "                print(f\"{num1} + {num2} = {add(num1, num2)}\")\n",
    "\n",
    "            elif choice == '2':\n",
    "                print(f\"{num1} - {num2} = {subtract(num1, num2)}\")\n",
    "\n",
    "            elif choice == '3':\n",
    "                print(f\"{num1} * {num2} = {multiply(num1, num2)}\")\n",
    "\n",
    "            elif choice == '4':\n",
    "                print(f\"{num1} / {num2} = {divide(num1, num2)}\")\n",
    "\n",
    "        else:\n",
    "            print(\"Invalid Input\")\n",
    "\n",
    "        # Ask if the user wants to perform another calculation\n",
    "        next_calculation = input(\"Do you want to perform another calculation? (yes/no): \")\n",
    "        if next_calculation.lower() != 'yes':\n",
    "            break\n",
    "\n",
    "# Run the calculator function\n",
    "calculator()\n"
   ]
  },
  {
   "cell_type": "raw",
   "id": "89a9c493",
   "metadata": {},
   "source": []
  },
  {
   "cell_type": "code",
   "execution_count": null,
   "id": "b49998f4",
   "metadata": {},
   "outputs": [],
   "source": []
  }
 ],
 "metadata": {
  "kernelspec": {
   "display_name": "Python 3 (ipykernel)",
   "language": "python",
   "name": "python3"
  },
  "language_info": {
   "codemirror_mode": {
    "name": "ipython",
    "version": 3
   },
   "file_extension": ".py",
   "mimetype": "text/x-python",
   "name": "python",
   "nbconvert_exporter": "python",
   "pygments_lexer": "ipython3",
   "version": "3.9.13"
  }
 },
 "nbformat": 4,
 "nbformat_minor": 5
}
