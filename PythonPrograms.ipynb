{
 "cells": [
  {
   "cell_type": "markdown",
   "id": "c09ef904",
   "metadata": {},
   "source": [
    "# Lower Triangular Pattern"
   ]
  },
  {
   "cell_type": "code",
   "execution_count": 1,
   "id": "69dde842",
   "metadata": {},
   "outputs": [
    {
     "name": "stdout",
     "output_type": "stream",
     "text": [
      "*\n",
      "**\n",
      "***\n",
      "****\n",
      "*****\n",
      "******\n",
      "*******\n",
      "********\n",
      "*********\n",
      "**********\n"
     ]
    }
   ],
   "source": [
    "#Lower Triangular Pattern\n",
    "\n",
    "def lower_triangle(n):\n",
    "    for i in range(1, n + 1):\n",
    "        print('*' * i)\n",
    "\n",
    "# call the function\n",
    "lower_triangle(10)"
   ]
  },
  {
   "cell_type": "markdown",
   "id": "7e628b1a",
   "metadata": {},
   "source": [
    "# Upper Triangular Pattern"
   ]
  },
  {
   "cell_type": "code",
   "execution_count": 2,
   "id": "56721e8b",
   "metadata": {},
   "outputs": [
    {
     "name": "stdout",
     "output_type": "stream",
     "text": [
      "**********\n",
      " *********\n",
      "  ********\n",
      "   *******\n",
      "    ******\n",
      "     *****\n",
      "      ****\n",
      "       ***\n",
      "        **\n",
      "         *\n"
     ]
    }
   ],
   "source": [
    "#Upper Triangular Pattern\n",
    "\n",
    "def upper_triangle(n):\n",
    "    for i in range(n):\n",
    "        print(' ' * i + '*' * (n - i))\n",
    "\n",
    "# call the function\n",
    "upper_triangle(10)\n"
   ]
  },
  {
   "cell_type": "markdown",
   "id": "c7b46ba4",
   "metadata": {},
   "source": [
    "# Pyramid Pattern"
   ]
  },
  {
   "cell_type": "code",
   "execution_count": 3,
   "id": "bdb53f1e",
   "metadata": {},
   "outputs": [
    {
     "name": "stdout",
     "output_type": "stream",
     "text": [
      "         *\n",
      "        ***\n",
      "       *****\n",
      "      *******\n",
      "     *********\n",
      "    ***********\n",
      "   *************\n",
      "  ***************\n",
      " *****************\n",
      "*******************\n"
     ]
    }
   ],
   "source": [
    "def pyramid(n):\n",
    "    for i in range(n):\n",
    "        print(' ' * (n - i - 1) + '*' * (2 * i + 1))\n",
    "\n",
    "# call the function\n",
    "pyramid(10)\n"
   ]
  },
  {
   "cell_type": "code",
   "execution_count": null,
   "id": "069d4c36",
   "metadata": {},
   "outputs": [],
   "source": []
  }
 ],
 "metadata": {
  "kernelspec": {
   "display_name": "Python 3 (ipykernel)",
   "language": "python",
   "name": "python3"
  },
  "language_info": {
   "codemirror_mode": {
    "name": "ipython",
    "version": 3
   },
   "file_extension": ".py",
   "mimetype": "text/x-python",
   "name": "python",
   "nbconvert_exporter": "python",
   "pygments_lexer": "ipython3",
   "version": "3.9.13"
  }
 },
 "nbformat": 4,
 "nbformat_minor": 5
}
